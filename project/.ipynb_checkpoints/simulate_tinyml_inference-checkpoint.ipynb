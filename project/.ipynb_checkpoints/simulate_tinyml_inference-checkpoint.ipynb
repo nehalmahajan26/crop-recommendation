{
 "cells": [
  {
   "cell_type": "code",
   "execution_count": 1,
   "id": "5a35d2b1-fcaf-47af-b1ee-6d3325aee358",
   "metadata": {},
   "outputs": [
    {
     "name": "stdout",
     "output_type": "stream",
     "text": [
      "Recommended Crop: rice\n"
     ]
    }
   ],
   "source": [
    "# Simulate inference using the TFLite model\n",
    "import numpy as np\n",
    "import tensorflow as tf\n",
    "import pickle\n",
    "\n",
    "# Load the TFLite model and allocate tensors\n",
    "interpreter = tf.lite.Interpreter(model_path=\"crop_model.tflite\")\n",
    "interpreter.allocate_tensors()\n",
    "\n",
    "# Get input and output tensor details\n",
    "input_details = interpreter.get_input_details()\n",
    "output_details = interpreter.get_output_details()\n",
    "\n",
    "# Load scaler and label encoder\n",
    "with open('scaler.pkl', 'rb') as f:\n",
    "    scaler = pickle.load(f)\n",
    "with open('label_encoder.pkl', 'rb') as f:\n",
    "    label_encoder = pickle.load(f)\n",
    "\n",
    "def predict_crop(input_features):\n",
    "    # Preprocess the input using the scaler\n",
    "    input_scaled = scaler.transform([input_features])\n",
    "    interpreter.set_tensor(input_details[0]['index'], input_scaled.astype(np.float32))\n",
    "    interpreter.invoke()\n",
    "    output_data = interpreter.get_tensor(output_details[0]['index'])\n",
    "    predicted_index = np.argmax(output_data)\n",
    "    predicted_crop = label_encoder.inverse_transform([predicted_index])\n",
    "    return predicted_crop[0]\n",
    "\n",
    "# Test the simulation with sample data\n",
    "sample_input = [90, 42, 43, 20.87, 82.00, 6.5, 202.93]  # Example feature values\n",
    "print(\"Recommended Crop:\", predict_crop(sample_input))\n"
   ]
  },
  {
   "cell_type": "code",
   "execution_count": null,
   "id": "2174a4c8-889d-4219-9b50-00da70742189",
   "metadata": {},
   "outputs": [],
   "source": []
  }
 ],
 "metadata": {
  "kernelspec": {
   "display_name": "Python [conda env:base] *",
   "language": "python",
   "name": "conda-base-py"
  },
  "language_info": {
   "codemirror_mode": {
    "name": "ipython",
    "version": 3
   },
   "file_extension": ".py",
   "mimetype": "text/x-python",
   "name": "python",
   "nbconvert_exporter": "python",
   "pygments_lexer": "ipython3",
   "version": "3.12.7"
  }
 },
 "nbformat": 4,
 "nbformat_minor": 5
}
