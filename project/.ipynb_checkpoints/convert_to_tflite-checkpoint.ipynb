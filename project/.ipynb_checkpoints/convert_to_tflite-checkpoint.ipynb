{
 "cells": [
  {
   "cell_type": "code",
   "execution_count": 2,
   "id": "5cb1d9b6-6756-4231-bc94-f4c7b6d08122",
   "metadata": {},
   "outputs": [
    {
     "name": "stderr",
     "output_type": "stream",
     "text": [
      "WARNING:absl:Compiled the loaded model, but the compiled metrics have yet to be built. `model.compile_metrics` will be empty until you train or evaluate the model.\n"
     ]
    },
    {
     "name": "stdout",
     "output_type": "stream",
     "text": [
      "INFO:tensorflow:Assets written to: C:\\Users\\Yuvraj\\AppData\\Local\\Temp\\tmprez_i_jy\\assets\n"
     ]
    },
    {
     "name": "stderr",
     "output_type": "stream",
     "text": [
      "INFO:tensorflow:Assets written to: C:\\Users\\Yuvraj\\AppData\\Local\\Temp\\tmprez_i_jy\\assets\n"
     ]
    },
    {
     "name": "stdout",
     "output_type": "stream",
     "text": [
      "Saved artifact at 'C:\\Users\\Yuvraj\\AppData\\Local\\Temp\\tmprez_i_jy'. The following endpoints are available:\n",
      "\n",
      "* Endpoint 'serve'\n",
      "  args_0 (POSITIONAL_ONLY): TensorSpec(shape=(None, 7), dtype=tf.float32, name='input_layer_1')\n",
      "Output Type:\n",
      "  TensorSpec(shape=(None, 22), dtype=tf.float32, name=None)\n",
      "Captures:\n",
      "  1736582470864: TensorSpec(shape=(), dtype=tf.resource, name=None)\n",
      "  1736582471632: TensorSpec(shape=(), dtype=tf.resource, name=None)\n",
      "  1736582472784: TensorSpec(shape=(), dtype=tf.resource, name=None)\n",
      "  1736582471248: TensorSpec(shape=(), dtype=tf.resource, name=None)\n",
      "  1736582473168: TensorSpec(shape=(), dtype=tf.resource, name=None)\n",
      "  1736582473744: TensorSpec(shape=(), dtype=tf.resource, name=None)\n",
      "TFLite model saved as crop_model.tflite\n"
     ]
    }
   ],
   "source": [
    "# Convert the saved Keras model to a TensorFlow Lite model\n",
    "import tensorflow as tf\n",
    "\n",
    "# Load the trained model\n",
    "model = tf.keras.models.load_model('crop_model.h5')\n",
    "\n",
    "# Convert to TFLite format\n",
    "converter = tf.lite.TFLiteConverter.from_keras_model(model)\n",
    "tflite_model = converter.convert()\n",
    "\n",
    "# Save the TFLite model\n",
    "with open('crop_model.tflite', 'wb') as f:\n",
    "    f.write(tflite_model)\n",
    "\n",
    "print(\"TFLite model saved as crop_model.tflite\")\n"
   ]
  },
  {
   "cell_type": "code",
   "execution_count": null,
   "id": "c25fd485-0eba-473b-88ee-e281941b0db4",
   "metadata": {},
   "outputs": [],
   "source": []
  }
 ],
 "metadata": {
  "kernelspec": {
   "display_name": "Python [conda env:base] *",
   "language": "python",
   "name": "conda-base-py"
  },
  "language_info": {
   "codemirror_mode": {
    "name": "ipython",
    "version": 3
   },
   "file_extension": ".py",
   "mimetype": "text/x-python",
   "name": "python",
   "nbconvert_exporter": "python",
   "pygments_lexer": "ipython3",
   "version": "3.12.7"
  }
 },
 "nbformat": 4,
 "nbformat_minor": 5
}
